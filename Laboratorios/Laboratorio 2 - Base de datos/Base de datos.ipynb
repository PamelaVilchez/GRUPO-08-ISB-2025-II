{
 "cells": [
  {
   "cell_type": "markdown",
   "id": "f442455e",
   "metadata": {},
   "source": [
    "# Brain-Computer Interface\n",
    "\n",
    "\n",
    "## Metodología \n",
    "\n",
    "### 📊 Tabla comparativa de metodologías\n",
    "| **Aspecto** | **DataBase 1** | **DataBase 2** |\n",
    "|:-------------:|:----------------:|:----------------:|\n",
    "| **Participantes y entorno experimental** | 21 sujetos sanos, edad promedio 23.6 ± 3.1 años, sin discapacidades.<br>Entorno: sala silenciosa en Northeastern University.<br>Consentimiento aprobado por IRB. | 20 sujetos sanos (14 hombres, 6 mujeres), edad promedio 22.75 ± 1.45 años, sin alteraciones sensoriomotoras, oftalmológicas ni auditivas.<br>Entorno: sala tenue (188.95 ± 24.50 lx), distancia 60 cm de la pantalla, en Keio University.<br>Consentimiento aprobado por comité de ética. |\n",
    "| **Adquisición de señales** | - EEG: DSI-24, 24 canales, electrodos secos, fs = 300 Hz, banda 0.003–150 Hz, ref. A1/A2, tierra A1.<br>- Eye tracking: Tobii Pro Nano, fs = 60 Hz. | - EEG: 14 electrodos activos Ag/AgCl (10–20), fs = 256 Hz, filtro Butterworth 0.5–60 Hz, ref. mastoide izq., tierra Fz.<br>- EOG: 2 electrodos (arriba y abajo de la órbita izquierda). |\n",
    "| **Paradigma experimental** | Paradigma SCP (Single-Character Presentation).<br>- Estímulos: letras + “_” + “<”.<br>- 100 consultas, 10 caracteres cada una (1 objetivo, 9 distractores).<br>- 10% consultas sin objetivo.<br>- Frecuencia presentación: 4 Hz.<br>- Secuencia: 1 s objetivo → 0.5 s fijación → presentación de 10 caracteres → 2 s pantalla en blanco. | Dos experimentos:<br>Exp. 1: parpadeo voluntario tras “beep” (55 dB). 20 ensayos/sesión, intervalos 5–6 s, 3 sesiones.<br>Exp. 2: parpadeo involuntario mientras respondían sonidos (A, S, D). 3 sesiones/sujeto. |\n",
    "| **Procesamiento inicial de datos** | - Datos estructurados en formato BIDS 1.7.0.<br>- Plataforma BciPy para presentación, registro y análisis (incluye parámetros y visualizaciones como matrix.png). | - Preprocesamiento con EEGLAB (ICA infomax).<br>- Identificación automática de artefactos por entropía mMSE y curtosis.<br>- Purificación con wavelet Daubechies-4 (nivel 5).<br>- Reconstrucción de artefactos oculares mediante demixing inverso. |\n",
    "| **Verificación de calidad** | - Sincronización temporal: validada con fotodiodo y Matrix Time Test Task (offsets ≤ ±10 ms).<br>- Seguimiento ocular: pérdidas breves en algunos sujetos.<br>- Consistencia: todos los archivos cumplen estándar BIDS. | - Sincronización: alineación de picos EOG y EEG.<br>- Artefactos: diferencias en bandas delta y theta entre parpadeos voluntarios/involuntarios.<br>- Simetría: propagación bilateral fronto-occipital.<br>- Robustez: wavelet-ICA extrajo artefactos sin pérdida neuronal. |\n",
    "\n"
   ]
  }
 ],
 "metadata": {
  "language_info": {
   "name": "python"
  }
 },
 "nbformat": 4,
 "nbformat_minor": 5
}
