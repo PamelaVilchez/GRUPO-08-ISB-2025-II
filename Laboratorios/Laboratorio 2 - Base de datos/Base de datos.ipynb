{
 "cells": [
  {
   "cell_type": "markdown",
   "id": "f442455e",
   "metadata": {},
   "source": [
    "# Brain-Computer Interface\n",
    "## 1. Introducción al BCI \n",
    "Las interfaces cerebro - computadora, también conocida por sus siglas en inglés BCI (Brain Computer Interfaces), son un tipo de comunicación que permite a la persona conectada al BCI enviar mensajes y comandos al mundo externo, por medio de una computadora. [1]\n",
    "\n",
    "Esta tecnología permite crear una forma de comunicación especialmente para personas completamente paralizadas, pues se emplean los potenciales relacionados con eventos correspondientes a estímulos en la electroencefalografía (EEG) para detectar la intención de una persona en el interfaz. [2]\n",
    "\n",
    "## 2. Modelo funcional de un sistema BCI genérico\n",
    "Este modelo funcional para un BCI fue propuesto por Mason & Birch [3], donde se describen los principales bloques funcionales en el cual el usuario controla el dispositivo. Asimismo, el usuario puede monitorear el estado del dispositivo a través de retroalimentaciones para que observe el resultado de sus esfuerzos para controlarlo.  \n",
    "\n",
    "Cabe resaltar que el extractor de características se encarga de captar variaciones en el mecanismo neurológico subyacente utilizado por el usuario. Además el clasificador asigna las señales eléctricas registradas correspondientes a un determinado estado cerebral del usuario, con una determinada salida que será aplicada a la interfaz de control. [4]  \n",
    "\n",
    "\n",
    "## 3. Paradigmas de BCIs No Invasivas\n",
    "Dentro de las BCIs no invasivas se encuentran diferentes estrategias o paradigmas utilizados para su diseño, dependiendo de la señal empleada y de la información de la misma que se utilice para establecer la comunicación cerebro-computadora. [4]  \n",
    "\n",
    "### 3.1. Potenciales Evocados Visuales (VEP, Visual Evoked Potentials)\n",
    "Haciendo uso de respuestas evocadas a estímulos visuales, los VEP registrados en el cuero cabelludo sobre la corteza visual permiten estimar la dirección de la mirada del sujeto y, por medio de esta estimación, controlar el movimiento de un cursor sobre una pantalla.  \n",
    "Este tipo de BCI se denomina “BCI Dependiente”, pues la información que utiliza el sistema es generada en vías nerviosas de salida normales y no estrictamente en el cerebro.  \n",
    "\n",
    "### 3.2. Potenciales Evocados Visuales de Estado Estacionario (SSVEP, Steady State Visual Evoked Potentials)\n",
    "La distinción entre VEP transitorios y SSVEP es la frecuencia de repetición del estímulo: si la frecuencia es mayor a 6 Hz, se considera una respuesta periódica llamada SSVEP. El modo de operación consiste en poner múltiples objetivos en un panel visual y hacerlos parpadear a distintas frecuencias. Cuando el sujeto fija la mirada en un objetivo, se induce un SSVEP cuya frecuencia fundamental corresponde al parpadeo del blanco.  \n",
    "\n",
    "Algunas ventajas de las técnicas basadas en SSVEP son que requieren sólo un par de canales de registro deseñales sobre la corteza visual para obtener suficiente información, y de muy poco entrenamiento para el usuario.\n",
    "\n",
    "### 3.3. Potenciales Corticales Lentos (SCP, Slow Cortical Potentials)\n",
    "Los Potenciales Corticales Lentos, son generados en la corteza cerebral y se encuentran en las más bajas frecuencias del EEG (0.1–2.0 Hz). Los SCP Negativos se asocian a movimientos y otras funciones que involucran activación cortical , mientras que los SCP positivos se vinculan con la reducción de la actividad cortical [5]. Entre las ventajas de las BCI basadas en SCP, se encuentran su experiencia y logros en la aplicación clínica de la misma, habiendo sido probada hasta la actualidad en más de una decena de pacientes con esclerosislateral amiotrófica avanzada. Entre sus principales desventajas está que requiere periodos muy prolongados de entrenamiento (de meses hasta un año), con bajo porcentaje de éxito en dicho proceso (poco mas del 50% de los sujetos logran controlar sus SCP), y tasas de transferencias de información muy lentas (5 bits/min de promedio). \n",
    "\n",
    "### 3.4. Tareas Mentales o Cognitivas (MT, Mental Tasks)\n",
    "Las decisiones del BCI se basan en la clasificación de patrones encontrados en el registro del EEG espontáneo, dentro de un número predefinido de N tareas mentales diferentes. Entre las ventajas de esta estrategia está que no necesita ningún sistema de estimulación ni señal de sincronismo (BCI Asíncrono). Como desventaja se tiene que el control puede resultar poco natural para el usuario dado que la tarea mental suele no estar relacionada con el objetivo del control, por ejemplo tener que pensar en la redacción de una carta cuando se desea mover un cursor.  \n",
    "\n",
    "### 3.5. Desincronización y Sincronización Relacionadas a Evento\n",
    "En sujetos despiertos, el área de corteza motora presenta una actividad de EEG en los 8–12 Hz, que se denominada ritmo mu. Éstas se encuentran presentes cuando no se realizan procesamientos de entradas sensoriales ni se producen salidas motoras. Además, existe el ritmo beta (16-26 Hz.).\n",
    "\n",
    "La ejecución de movimientos o su preparación mental disminuyen la actividad de los ritmos mu y beta y ésto, a ello se denomina Desincronización Relacionada a Eventos (ERD, Event Related Desyncronization). Por el contrario, un aumento de los ritmos mu y beta, se logra después de un movimiento y con la relajación, produciendo lo que se denomina una Sincronización Relacionadaa Eventos (ERS, Event Related Syncronization). \n",
    "\n",
    "### 3.6. Potenciales Relacionados a Eventos (ERP, Event-Related Potentials)\n",
    "En particular los potenciales de latencias mayores a los 100 ms, conocidos como “endógenos”, dependen de procesos psicológicos y conductuales. El ERP más comúnmente estudiado es el P300. La ventaja más sobresaliente  es que “no se requiere de ningún entrenamiento para el usuario”, además resulta natural en tareas de selección de objetivos. En cuanto a su principal desventaja, se tiene que requiere atención visual por parte del usuario, lo cual resulta un obstáculo en sujetos con impedimentos visuales. Sin embargo existe la alternativa de utilizar estímulos táctiles o auditivos para producir las señales de P300.  \n",
    "\n",
    "## 4. Detección de gestos oculares voluntarios mediante EEG para control de dispositivos\n",
    "\n",
    "### 4.1. Análisis comparativo de bases de datos EEG para BCI basado en gestos oculares\n",
    "Con el objetivo de seleccionar una base de datos adecuada para el desarrollo de nuestro proyecto enfocado en la detección de gestos oculares, se revisaron dos referencias principalmente: **Multimodal Sensor Fusion for EEG-Based BCI Typing Systems (2025)** y **Assessing the effects of voluntary and involuntary eyeblinks in independent components of electroencephalogram (2016)**. \n",
    "\n",
    "A continuación, se presenta un cuadro comparativo de sus principales características:  \n",
    "\n",
    "### 📊 Cuadro comparativo de bases de datos\n",
    "\n",
    "| Base de datos | Multimodal Sensor Fusion for EEG-Based BCI Typing Systems (2025) | Assessing the effects of voluntary and involuntary eyeblinks (2016) |\n",
    "|---------|------------------------------------------------------------------|-------------------------------------------------------------------|\n",
    "| **Objetivo** | Evaluar un sistema multimodal (EEG + eye tracking) para mejorar la precisión en sistemas de escritura asistida | Analizar las diferencias entre parpadeos voluntarios e involuntarios en señales EEG |\n",
    "| **Participantes** | 21 participantes sanos (23.6 ± 3.1 años) y 8 participantes con discapacidades motoras y del habla severas “SSPI” (62.6 ± 15.7 años) | 20 participantes sanos (22.75 ± 1.45 años) |\n",
    "| **Señales registradas** | EEG inalámbrico DSI-24 (24 canales, 300 Hz) + rastreador ocular portátil Tobii Pro Nano (60 Hz) | EEG (14 canales, 256 Hz) + EOG vertical |\n",
    "| **Protocolo experimental** | Paradigma SCP implementado en BciPy para la presentación de caracteres y adquisición sincronizada de datos EEG | Exp.1: parpadeo voluntario inducido por estímulo · Exp.2: parpadeo involuntario espontáneo |\n",
    "| **Etiquetado** | Marcadores de fijación y trayectorias de mirada sincronizados con estímulos visuales | Parpadeos voluntarios e involuntarios detectados con EOG vertical y confirmados manualmente |\n",
    "| **Clases de gestos oculares** | - Fijación de la mirada<br>- Trayectorias: izquierda (L), derecha (R), arriba (Up), abajo (Down)<br>- No fijación | - Parpadeo voluntario<br>- Parpadeo involuntario<br>- No parpadeo |\n",
    "| **Clasificación posible** | - Binaria (mirada/no mirada)<br>- Multiclase (direcciones)<br>- Jerárquica (fijación + trayectoria) | - Binaria (parpadeo/no parpadeo)<br>- Multiclase (voluntario/involuntario/no parpadeo) |\n",
    "| **Particionamiento de datos** | Trials por caracter en paradigma SCP: análisis intra/inter-sujeto | Ventanas de 4 s. Dataset balanceado: 467 voluntarios, 394 involuntarios, períodos sin parpadeo |\n",
    "\n",
    "\n",
    "## 5. Metodología \n",
    "A continuación se presenta un cuadro comparativo que sintetiza los aspectos metodológicos más relevantes entre dos bases de datos utilizadas en el análisis de señales EEG y paradigmas experimentales de parpadeo voluntario e involuntario.\n",
    "\n",
    "## Comparación final de características técnicas\n",
    "\n",
    "| **Aspecto** | **Multimodal Sensor Fusion for EEG-Based BCI Typing Systems (2025)** | **Assessing the effects of voluntary and involuntary eyeblinks (2016)** |\n",
    "|:-----------:|:--------------:|:--------------:|\n",
    "| Participantes y entorno experimental | 21 sujetos sanos, edad promedio 23.6 ± 3.1 años, sin discapacidades.<br>Entorno: sala silenciosa en Northeastern University.<br>Consentimiento aprobado por IRB. | 20 sujetos sanos (14 hombres, 6 mujeres), edad promedio 22.75 ± 1.45 años, sin alteraciones sensoriomotoras, oftalmológicas ni auditivas.<br>Entorno: sala tenue (188.95 ± 24.50 lx), distancia 60 cm de la pantalla, en Keio University.<br>Consentimiento aprobado por comité de ética. |\n",
    "| Adquisición de señales | - EEG: DSI-24, 24 canales, electrodos secos, fs = 300 Hz, banda 0.003–150 Hz, ref. A1/A2, tierra A1.<br>- Eye tracking: Tobii Pro Nano, fs = 60 Hz. | - EEG: 14 electrodos activos Ag/AgCl (10–20), fs = 256 Hz, filtro Butterworth 0.5–60 Hz, ref. mastoide izq., tierra Fz.<br>- EOG: 2 electrodos (arriba y abajo de la órbita izquierda). |\n",
    "| Paradigma experimental | Paradigma SCP (Single-Character Presentation).<br>- Estímulos: letras + “_” + “<”.<br>- 100 consultas, 10 caracteres cada una (1 objetivo, 9 distractores).<br>- 10% consultas sin objetivo.<br>- Frecuencia presentación: 4 Hz.<br>- Secuencia: 1 s objetivo → 0.5 s fijación → presentación de 10 caracteres → 2 s pantalla en blanco. | Dos experimentos:<br>Exp. 1: parpadeo voluntario tras “beep” (55 dB). 20 ensayos/sesión, intervalos 5–6 s, 3 sesiones.<br>Exp. 2: parpadeo involuntario mientras respondían sonidos (A, S, D). 3 sesiones/sujeto. |\n",
    "| Procesamiento inicial de datos | - Datos estructurados en formato BIDS 1.7.0.<br>- Plataforma BciPy para presentación, registro y análisis (incluye parámetros y visualizaciones como matrix.png). | - Preprocesamiento con EEGLAB (ICA infomax).<br>- Identificación automática de artefactos por entropía mMSE y curtosis.<br>- Purificación con wavelet Daubechies-4 (nivel 5).<br>- Reconstrucción de artefactos oculares mediante demixing inverso. |\n",
    "| Verificación de calidad | - Sincronización temporal: validada con fotodiodo y Matrix Time Test Task (offsets ≤ ±10 ms).<br>- Seguimiento ocular: pérdidas breves en algunos sujetos.<br>- Consistencia: todos los archivos cumplen estándar BIDS. | - Sincronización: alineación de picos EOG y EEG.<br>- Artefactos: diferencias en bandas delta y theta entre parpadeos voluntarios/involuntarios.<br>- Simetría: propagación bilateral fronto-occipital.<br>- Robustez: wavelet-ICA extrajo artefactos sin pérdida neuronal. |\n",
    "\n",
    "Para ilustrar el diseño experimental utilizado en la caracterización de artefactos por parpadeo, la Fig. 1 presenta los esquemas temporales correspondientes a los ensayos de parpadeo voluntario e involuntario. Ambos protocolos fueron empleados para evaluar sus efectos diferenciales sobre los componentes independientes (ICs) del EEG, utilizando ICA mejorado por wavelets. La segmentación en épocas de 4 segundos permitió extraer características temporales y espectrales relevantes, mientras que el filtrado espacial se aplicó sobre la totalidad del registro para preservar la calidad de separación.\n",
    "\n",

    ![Diagrama de parpadeo voluntario e involuntario](https://github.com/PamelaVilchez/GRUPO-08-ISB-2025-II/raw/main/Repositorio-Im%C3%A1genes/Captura%20de%20pantalla%202025-09-01%20180629.png)
    
    **Fig. 1.** (A) Diagram of a trial for voluntary eyeblink. The 4-s epoch was used for analysis.  
    (B) Diagram of a trial for involuntary eyeblink. The 4-s epoch, excluding the period indicated by the black star, was used for analysis.



    "\n",
    "## 6. Referencias\n",
    "1. [Brain-computer interfaces for communication and control](https://pubmed.ncbi.nlm.nih.gov/12048038/) (Wolpaw, J. R., Birbaumer, N., McFarland, D. J., Pfurtscheller, G., & Vaughan, T. M. (2002))  \n",
    "2. [An ERP-based Brain-Computer Interface for text entry using Rapid Serial Visual Presentation and Language Modeling](https://aclanthology.org/P11-4007/) (Hild et al., ACL 2011)  \n",
    "3. [BCI meeting 2005-workshop on technology: hardware and software](https://doi.org/10.1109/TNSRE.2006.875584) (F. Cincotti et al., IEEE TNSRE, vol. 14, no. 2, pp. 128-131, 2006)  \n",
    "4. [Interfaz Cerebro-Computadora: Estado del arte y desarrollo en Argentina](https://www.researchgate.net/publication/262568028_Interfaz_Cerebro_-Computadora_Estado_del_arte_y_desarrollo_en_Argentina) (Gentiletti, G., 2007)  \n",
    "5. [The thought-translation device (TTD): neurobehavioral mechanisms and clinical outcome](https://doi.org/10.1109/TNSRE.2003.814439) (Birbaumer, N., Hinterberger, T., Kübler, A., & Neumann, N., IEEE TNSRE, 2003)  \n"
   ]
  }
 ],
 "metadata": {
  "kernelspec": {
   "display_name": "proyecto-env",
   "language": "python",
   "name": "python3"
  },
  "language_info": {
   "codemirror_mode": {
    "name": "ipython",
    "version": 3
   },
   "file_extension": ".py",
   "mimetype": "text/x-python",
   "name": "python",
   "nbconvert_exporter": "python",
   "pygments_lexer": "ipython3",
   "version": "3.12.11"
  }
 },
 "nbformat": 4,
 "nbformat_minor": 5
}
